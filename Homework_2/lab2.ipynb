{
 "cells": [
  {
   "cell_type": "code",
   "execution_count": 1,
   "metadata": {},
   "outputs": [],
   "source": [
    "import numpy as np\n",
    "import pandas as pd"
   ]
  },
  {
   "cell_type": "code",
   "execution_count": 3,
   "metadata": {},
   "outputs": [
    {
     "name": "stdout",
     "output_type": "stream",
     "text": [
      "   label  pixel0  pixel1  pixel2  pixel3  pixel4  pixel5  pixel6  pixel7  \\\n",
      "0      1       0       0       0       0       0       0       0       0   \n",
      "1      0       0       0       0       0       0       0       0       0   \n",
      "2      1       0       0       0       0       0       0       0       0   \n",
      "3      4       0       0       0       0       0       0       0       0   \n",
      "4      0       0       0       0       0       0       0       0       0   \n",
      "\n",
      "   pixel8  ...  pixel774  pixel775  pixel776  pixel777  pixel778  pixel779  \\\n",
      "0       0  ...         0         0         0         0         0         0   \n",
      "1       0  ...         0         0         0         0         0         0   \n",
      "2       0  ...         0         0         0         0         0         0   \n",
      "3       0  ...         0         0         0         0         0         0   \n",
      "4       0  ...         0         0         0         0         0         0   \n",
      "\n",
      "   pixel780  pixel781  pixel782  pixel783  \n",
      "0         0         0         0         0  \n",
      "1         0         0         0         0  \n",
      "2         0         0         0         0  \n",
      "3         0         0         0         0  \n",
      "4         0         0         0         0  \n",
      "\n",
      "[5 rows x 785 columns]\n"
     ]
    }
   ],
   "source": [
    "# Load data into memory\n",
    "data = pd.read_csv('data.csv')\n",
    "\n",
    "print(data.head())"
   ]
  },
  {
   "cell_type": "code",
   "execution_count": 8,
   "metadata": {},
   "outputs": [
    {
     "name": "stdout",
     "output_type": "stream",
     "text": [
      "(42000, 785)\n",
      "\n",
      "(784, 42000) (42000,)\n"
     ]
    }
   ],
   "source": [
    "# Convert data into a matrix\n",
    "data = np.array(data)\n",
    "\n",
    "print(data.shape)\n",
    "\n",
    "# Dataset has 42_000 observations of 28 x 28 dimension\n",
    "# flattening 28 x 28 -> 784 = 28 * 28 dimensional vector \n",
    "\n",
    "# Split data into a matrix X and a vector Y where:\n",
    "#\n",
    "# X is dimension (42000, 784)\n",
    "# Y is dimension (42000, )\n",
    "# Y is the first column of data, while X is the rest\n",
    "X = data[:, 1:]\n",
    "X = X.T\n",
    "\n",
    "Y = data[:, 0]\n",
    "\n",
    "print(\"\")\n",
    "print(X.shape, Y.shape)\n",
    "\n",
    "d, N = X.shape"
   ]
  },
  {
   "cell_type": "code",
   "execution_count": 10,
   "metadata": {},
   "outputs": [
    {
     "data": {
      "image/png": "[encoded data removed]",
      "text/plain": [
       "<Figure size 432x288 with 1 Axes>"
      ]
     },
     "metadata": {
      "needs_background": "light"
     },
     "output_type": "display_data"
    },
    {
     "name": "stdout",
     "output_type": "stream",
     "text": [
      "8\n"
     ]
    }
   ],
   "source": [
    "# How to visualize image in Python?\n",
    "import matplotlib.pyplot as plt\n",
    "\n",
    "# Load an image in memory\n",
    "idx = 10\n",
    "img = X[:, idx]\n",
    "img = np.reshape(img, (28, 28))\n",
    "\n",
    "# Visualize\n",
    "plt.imshow(img, cmap='gray')\n",
    "plt.show()\n",
    "\n",
    "print(Y[idx])"
   ]
  },
  {
   "cell_type": "code",
   "execution_count": 13,
   "metadata": {},
   "outputs": [
    {
     "name": "stdout",
     "output_type": "stream",
     "text": [
      "(784, 30000) (784, 12000)\n"
     ]
    }
   ],
   "source": [
    "# Create a function that takes as input two arrays X and Y \n",
    "# and an integer Ntrain and returns four arrays\n",
    "# Xtrain, Ytrain, Xtest and Ytest where:\n",
    "#\n",
    "# Xtrain is composed by N_train random samples from X\n",
    "# Xtest is the rest of the array X\n",
    "# Ytrain and Ytest accordingly\n",
    "#\n",
    "# Limitation: the sample has to be random (numpy.random.shuffle)\n",
    "#\n",
    "# Example: If Ntrain = 30_000 on our MNIST data, the shapes\n",
    "#           should be:\n",
    "#           Xtrain (784, 30_000) Ytrain (30_000, )\n",
    "#           Xtest  (784, 12_000) Ytest  (12_000, )\n",
    "#\n",
    "# Hint: 1 - Generate a vector idx = [0, ..., N-1]\n",
    "#       2 - Shuffle the vector idx\n",
    "#       3 - Extract from X and Y the elements corresponding \n",
    "#           to idx[:N_train]\n",
    "#  If you apply the shuffle() directly on X, it will shuffle the\n",
    "#  rows.\n",
    "def split_data(X, Y, Ntrain):\n",
    "    d, N = X.shape\n",
    "\n",
    "    idx = np.arange(N)\n",
    "    np.random.shuffle(idx)\n",
    "\n",
    "    train_idx = idx[:Ntrain]\n",
    "    test_idx = idx[Ntrain:]\n",
    "\n",
    "    Xtrain = X[:, train_idx]\n",
    "    Ytrain = Y[train_idx]\n",
    "    \n",
    "    Xtest = X[:, test_idx]\n",
    "    Ytest = Y[test_idx]\n",
    "\n",
    "    return (Xtrain, Ytrain), (Xtest, Ytest)\n",
    "\n",
    "# Test it\n",
    "(Xtrain, Ytrain), (Xtest, Ytest) = split_data(X, Y, 30_000)\n",
    "\n",
    "print(Xtrain.shape, Xtest.shape)"
   ]
  },
  {
   "cell_type": "code",
   "execution_count": null,
   "metadata": {},
   "outputs": [],
   "source": [
    "# SVD of a matrix A\n",
    "U, s, VT = np.linalg.svd(A, full_matrices=False)"
   ]
  },
  {
   "cell_type": "code",
   "execution_count": 15,
   "metadata": {},
   "outputs": [],
   "source": [
    "# Write a function that takes as input a matrix X and\n",
    "# an integer k and returns Z = Uk^T X, the PCA of X\n"
   ]
  },
  {
   "cell_type": "code",
   "execution_count": null,
   "metadata": {},
   "outputs": [],
   "source": [
    "# If X is a matrix\n",
    "np.mean(X, axis=0)\n",
    "\n"
   ]
  },
  {
   "cell_type": "code",
   "execution_count": 18,
   "metadata": {},
   "outputs": [
    {
     "name": "stdout",
     "output_type": "stream",
     "text": [
      "(10,)\n",
      "\n",
      "(10, 1)\n"
     ]
    }
   ],
   "source": [
    "# Subtraction between matrix and vector\n",
    "x = np.linspace(0, 1, 10)\n",
    "print(x.shape)\n",
    "\n",
    "x = np.reshape(x, (10, 1))\n",
    "print(\"\")\n",
    "print(x.shape)"
   ]
  }
 ],
 "metadata": {
  "kernelspec": {
   "display_name": "Python 3.8.3 ('base')",
   "language": "python",
   "name": "python3"
  },
  "language_info": {
   "codemirror_mode": {
    "name": "ipython",
    "version": 3
   },
   "file_extension": ".py",
   "mimetype": "text/x-python",
   "name": "python",
   "nbconvert_exporter": "python",
   "pygments_lexer": "ipython3",
   "version": "3.8.3"
  },
  "orig_nbformat": 4,
  "vscode": {
   "interpreter": {
    "hash": "b2a11a8e64a03390b7694f536f82dcabd9ad9eea8ec00820808b73b002d59d1a"
   }
  }
 },
 "nbformat": 4,
 "nbformat_minor": 2
}
